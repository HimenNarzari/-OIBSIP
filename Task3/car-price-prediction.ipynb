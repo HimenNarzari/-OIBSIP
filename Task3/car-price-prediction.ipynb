{
 "cells": [
  {
   "cell_type": "code",
   "execution_count": 1,
   "id": "a969d1d7",
   "metadata": {
    "_cell_guid": "b1076dfc-b9ad-4769-8c92-a6c4dae69d19",
    "_uuid": "8f2839f25d086af736a60e9eeb907d3b93b6e0e5",
    "execution": {
     "iopub.execute_input": "2025-10-12T17:25:09.005660Z",
     "iopub.status.busy": "2025-10-12T17:25:09.005353Z",
     "iopub.status.idle": "2025-10-12T17:25:11.025603Z",
     "shell.execute_reply": "2025-10-12T17:25:11.024439Z"
    },
    "papermill": {
     "duration": 2.028714,
     "end_time": "2025-10-12T17:25:11.027578",
     "exception": false,
     "start_time": "2025-10-12T17:25:08.998864",
     "status": "completed"
    },
    "tags": []
   },
   "outputs": [
    {
     "name": "stdout",
     "output_type": "stream",
     "text": [
      "/kaggle/input/car-price-predictionused-cars/car data.csv\n"
     ]
    }
   ],
   "source": [
    "# This Python 3 environment comes with many helpful analytics libraries installed\n",
    "# It is defined by the kaggle/python Docker image: https://github.com/kaggle/docker-python\n",
    "# For example, here's several helpful packages to load\n",
    "\n",
    "import numpy as np # linear algebra\n",
    "import pandas as pd # data processing, CSV file I/O (e.g. pd.read_csv)\n",
    "\n",
    "# Input data files are available in the read-only \"../input/\" directory\n",
    "# For example, running this (by clicking run or pressing Shift+Enter) will list all files under the input directory\n",
    "\n",
    "import os\n",
    "for dirname, _, filenames in os.walk('/kaggle/input'):\n",
    "    for filename in filenames:\n",
    "        print(os.path.join(dirname, filename))\n",
    "\n",
    "# You can write up to 20GB to the current directory (/kaggle/working/) that gets preserved as output when you create a version using \"Save & Run All\" \n",
    "# You can also write temporary files to /kaggle/temp/, but they won't be saved outside of the current session"
   ]
  },
  {
   "cell_type": "markdown",
   "id": "ed8c1dd7",
   "metadata": {
    "papermill": {
     "duration": 0.004225,
     "end_time": "2025-10-12T17:25:11.036769",
     "exception": false,
     "start_time": "2025-10-12T17:25:11.032544",
     "status": "completed"
    },
    "tags": []
   },
   "source": [
    "# Reading Dataset"
   ]
  },
  {
   "cell_type": "code",
   "execution_count": 2,
   "id": "683c9e77",
   "metadata": {
    "execution": {
     "iopub.execute_input": "2025-10-12T17:25:11.047254Z",
     "iopub.status.busy": "2025-10-12T17:25:11.046440Z",
     "iopub.status.idle": "2025-10-12T17:25:11.072495Z",
     "shell.execute_reply": "2025-10-12T17:25:11.071520Z"
    },
    "papermill": {
     "duration": 0.033125,
     "end_time": "2025-10-12T17:25:11.074306",
     "exception": false,
     "start_time": "2025-10-12T17:25:11.041181",
     "status": "completed"
    },
    "tags": []
   },
   "outputs": [],
   "source": [
    "df = pd.read_csv(\"/kaggle/input/car-price-predictionused-cars/car data.csv\")"
   ]
  },
  {
   "cell_type": "code",
   "execution_count": 3,
   "id": "e62f42fb",
   "metadata": {
    "execution": {
     "iopub.execute_input": "2025-10-12T17:25:11.084741Z",
     "iopub.status.busy": "2025-10-12T17:25:11.084216Z",
     "iopub.status.idle": "2025-10-12T17:25:11.113337Z",
     "shell.execute_reply": "2025-10-12T17:25:11.112346Z"
    },
    "papermill": {
     "duration": 0.035929,
     "end_time": "2025-10-12T17:25:11.114897",
     "exception": false,
     "start_time": "2025-10-12T17:25:11.078968",
     "status": "completed"
    },
    "tags": []
   },
   "outputs": [
    {
     "data": {
      "text/html": [
       "<div>\n",
       "<style scoped>\n",
       "    .dataframe tbody tr th:only-of-type {\n",
       "        vertical-align: middle;\n",
       "    }\n",
       "\n",
       "    .dataframe tbody tr th {\n",
       "        vertical-align: top;\n",
       "    }\n",
       "\n",
       "    .dataframe thead th {\n",
       "        text-align: right;\n",
       "    }\n",
       "</style>\n",
       "<table border=\"1\" class=\"dataframe\">\n",
       "  <thead>\n",
       "    <tr style=\"text-align: right;\">\n",
       "      <th></th>\n",
       "      <th>Car_Name</th>\n",
       "      <th>Year</th>\n",
       "      <th>Selling_Price</th>\n",
       "      <th>Present_Price</th>\n",
       "      <th>Driven_kms</th>\n",
       "      <th>Fuel_Type</th>\n",
       "      <th>Selling_type</th>\n",
       "      <th>Transmission</th>\n",
       "      <th>Owner</th>\n",
       "    </tr>\n",
       "  </thead>\n",
       "  <tbody>\n",
       "    <tr>\n",
       "      <th>0</th>\n",
       "      <td>ritz</td>\n",
       "      <td>2014</td>\n",
       "      <td>3.35</td>\n",
       "      <td>5.59</td>\n",
       "      <td>27000</td>\n",
       "      <td>Petrol</td>\n",
       "      <td>Dealer</td>\n",
       "      <td>Manual</td>\n",
       "      <td>0</td>\n",
       "    </tr>\n",
       "    <tr>\n",
       "      <th>1</th>\n",
       "      <td>sx4</td>\n",
       "      <td>2013</td>\n",
       "      <td>4.75</td>\n",
       "      <td>9.54</td>\n",
       "      <td>43000</td>\n",
       "      <td>Diesel</td>\n",
       "      <td>Dealer</td>\n",
       "      <td>Manual</td>\n",
       "      <td>0</td>\n",
       "    </tr>\n",
       "    <tr>\n",
       "      <th>2</th>\n",
       "      <td>ciaz</td>\n",
       "      <td>2017</td>\n",
       "      <td>7.25</td>\n",
       "      <td>9.85</td>\n",
       "      <td>6900</td>\n",
       "      <td>Petrol</td>\n",
       "      <td>Dealer</td>\n",
       "      <td>Manual</td>\n",
       "      <td>0</td>\n",
       "    </tr>\n",
       "    <tr>\n",
       "      <th>3</th>\n",
       "      <td>wagon r</td>\n",
       "      <td>2011</td>\n",
       "      <td>2.85</td>\n",
       "      <td>4.15</td>\n",
       "      <td>5200</td>\n",
       "      <td>Petrol</td>\n",
       "      <td>Dealer</td>\n",
       "      <td>Manual</td>\n",
       "      <td>0</td>\n",
       "    </tr>\n",
       "    <tr>\n",
       "      <th>4</th>\n",
       "      <td>swift</td>\n",
       "      <td>2014</td>\n",
       "      <td>4.60</td>\n",
       "      <td>6.87</td>\n",
       "      <td>42450</td>\n",
       "      <td>Diesel</td>\n",
       "      <td>Dealer</td>\n",
       "      <td>Manual</td>\n",
       "      <td>0</td>\n",
       "    </tr>\n",
       "  </tbody>\n",
       "</table>\n",
       "</div>"
      ],
      "text/plain": [
       "  Car_Name  Year  Selling_Price  Present_Price  Driven_kms Fuel_Type  \\\n",
       "0     ritz  2014           3.35           5.59       27000    Petrol   \n",
       "1      sx4  2013           4.75           9.54       43000    Diesel   \n",
       "2     ciaz  2017           7.25           9.85        6900    Petrol   \n",
       "3  wagon r  2011           2.85           4.15        5200    Petrol   \n",
       "4    swift  2014           4.60           6.87       42450    Diesel   \n",
       "\n",
       "  Selling_type Transmission  Owner  \n",
       "0       Dealer       Manual      0  \n",
       "1       Dealer       Manual      0  \n",
       "2       Dealer       Manual      0  \n",
       "3       Dealer       Manual      0  \n",
       "4       Dealer       Manual      0  "
      ]
     },
     "execution_count": 3,
     "metadata": {},
     "output_type": "execute_result"
    }
   ],
   "source": [
    "df.head()"
   ]
  },
  {
   "cell_type": "code",
   "execution_count": 4,
   "id": "4830b738",
   "metadata": {
    "execution": {
     "iopub.execute_input": "2025-10-12T17:25:11.125899Z",
     "iopub.status.busy": "2025-10-12T17:25:11.125538Z",
     "iopub.status.idle": "2025-10-12T17:25:11.131850Z",
     "shell.execute_reply": "2025-10-12T17:25:11.130893Z"
    },
    "papermill": {
     "duration": 0.01384,
     "end_time": "2025-10-12T17:25:11.133438",
     "exception": false,
     "start_time": "2025-10-12T17:25:11.119598",
     "status": "completed"
    },
    "tags": []
   },
   "outputs": [
    {
     "data": {
      "text/plain": [
       "(301, 9)"
      ]
     },
     "execution_count": 4,
     "metadata": {},
     "output_type": "execute_result"
    }
   ],
   "source": [
    "df.shape"
   ]
  },
  {
   "cell_type": "code",
   "execution_count": 5,
   "id": "03cf4650",
   "metadata": {
    "execution": {
     "iopub.execute_input": "2025-10-12T17:25:11.144309Z",
     "iopub.status.busy": "2025-10-12T17:25:11.143590Z",
     "iopub.status.idle": "2025-10-12T17:25:11.172855Z",
     "shell.execute_reply": "2025-10-12T17:25:11.171991Z"
    },
    "papermill": {
     "duration": 0.036341,
     "end_time": "2025-10-12T17:25:11.174587",
     "exception": false,
     "start_time": "2025-10-12T17:25:11.138246",
     "status": "completed"
    },
    "tags": []
   },
   "outputs": [
    {
     "data": {
      "text/html": [
       "<div>\n",
       "<style scoped>\n",
       "    .dataframe tbody tr th:only-of-type {\n",
       "        vertical-align: middle;\n",
       "    }\n",
       "\n",
       "    .dataframe tbody tr th {\n",
       "        vertical-align: top;\n",
       "    }\n",
       "\n",
       "    .dataframe thead th {\n",
       "        text-align: right;\n",
       "    }\n",
       "</style>\n",
       "<table border=\"1\" class=\"dataframe\">\n",
       "  <thead>\n",
       "    <tr style=\"text-align: right;\">\n",
       "      <th></th>\n",
       "      <th>Year</th>\n",
       "      <th>Selling_Price</th>\n",
       "      <th>Present_Price</th>\n",
       "      <th>Driven_kms</th>\n",
       "      <th>Owner</th>\n",
       "    </tr>\n",
       "  </thead>\n",
       "  <tbody>\n",
       "    <tr>\n",
       "      <th>count</th>\n",
       "      <td>301.000000</td>\n",
       "      <td>301.000000</td>\n",
       "      <td>301.000000</td>\n",
       "      <td>301.000000</td>\n",
       "      <td>301.000000</td>\n",
       "    </tr>\n",
       "    <tr>\n",
       "      <th>mean</th>\n",
       "      <td>2013.627907</td>\n",
       "      <td>4.661296</td>\n",
       "      <td>7.628472</td>\n",
       "      <td>36947.205980</td>\n",
       "      <td>0.043189</td>\n",
       "    </tr>\n",
       "    <tr>\n",
       "      <th>std</th>\n",
       "      <td>2.891554</td>\n",
       "      <td>5.082812</td>\n",
       "      <td>8.642584</td>\n",
       "      <td>38886.883882</td>\n",
       "      <td>0.247915</td>\n",
       "    </tr>\n",
       "    <tr>\n",
       "      <th>min</th>\n",
       "      <td>2003.000000</td>\n",
       "      <td>0.100000</td>\n",
       "      <td>0.320000</td>\n",
       "      <td>500.000000</td>\n",
       "      <td>0.000000</td>\n",
       "    </tr>\n",
       "    <tr>\n",
       "      <th>25%</th>\n",
       "      <td>2012.000000</td>\n",
       "      <td>0.900000</td>\n",
       "      <td>1.200000</td>\n",
       "      <td>15000.000000</td>\n",
       "      <td>0.000000</td>\n",
       "    </tr>\n",
       "    <tr>\n",
       "      <th>50%</th>\n",
       "      <td>2014.000000</td>\n",
       "      <td>3.600000</td>\n",
       "      <td>6.400000</td>\n",
       "      <td>32000.000000</td>\n",
       "      <td>0.000000</td>\n",
       "    </tr>\n",
       "    <tr>\n",
       "      <th>75%</th>\n",
       "      <td>2016.000000</td>\n",
       "      <td>6.000000</td>\n",
       "      <td>9.900000</td>\n",
       "      <td>48767.000000</td>\n",
       "      <td>0.000000</td>\n",
       "    </tr>\n",
       "    <tr>\n",
       "      <th>max</th>\n",
       "      <td>2018.000000</td>\n",
       "      <td>35.000000</td>\n",
       "      <td>92.600000</td>\n",
       "      <td>500000.000000</td>\n",
       "      <td>3.000000</td>\n",
       "    </tr>\n",
       "  </tbody>\n",
       "</table>\n",
       "</div>"
      ],
      "text/plain": [
       "              Year  Selling_Price  Present_Price     Driven_kms       Owner\n",
       "count   301.000000     301.000000     301.000000     301.000000  301.000000\n",
       "mean   2013.627907       4.661296       7.628472   36947.205980    0.043189\n",
       "std       2.891554       5.082812       8.642584   38886.883882    0.247915\n",
       "min    2003.000000       0.100000       0.320000     500.000000    0.000000\n",
       "25%    2012.000000       0.900000       1.200000   15000.000000    0.000000\n",
       "50%    2014.000000       3.600000       6.400000   32000.000000    0.000000\n",
       "75%    2016.000000       6.000000       9.900000   48767.000000    0.000000\n",
       "max    2018.000000      35.000000      92.600000  500000.000000    3.000000"
      ]
     },
     "execution_count": 5,
     "metadata": {},
     "output_type": "execute_result"
    }
   ],
   "source": [
    "df.describe()"
   ]
  },
  {
   "cell_type": "code",
   "execution_count": 6,
   "id": "d7194fef",
   "metadata": {
    "execution": {
     "iopub.execute_input": "2025-10-12T17:25:11.186580Z",
     "iopub.status.busy": "2025-10-12T17:25:11.185618Z",
     "iopub.status.idle": "2025-10-12T17:25:11.218161Z",
     "shell.execute_reply": "2025-10-12T17:25:11.216874Z"
    },
    "papermill": {
     "duration": 0.040437,
     "end_time": "2025-10-12T17:25:11.220444",
     "exception": false,
     "start_time": "2025-10-12T17:25:11.180007",
     "status": "completed"
    },
    "tags": []
   },
   "outputs": [
    {
     "name": "stdout",
     "output_type": "stream",
     "text": [
      "<class 'pandas.core.frame.DataFrame'>\n",
      "RangeIndex: 301 entries, 0 to 300\n",
      "Data columns (total 9 columns):\n",
      " #   Column         Non-Null Count  Dtype  \n",
      "---  ------         --------------  -----  \n",
      " 0   Car_Name       301 non-null    object \n",
      " 1   Year           301 non-null    int64  \n",
      " 2   Selling_Price  301 non-null    float64\n",
      " 3   Present_Price  301 non-null    float64\n",
      " 4   Driven_kms     301 non-null    int64  \n",
      " 5   Fuel_Type      301 non-null    object \n",
      " 6   Selling_type   301 non-null    object \n",
      " 7   Transmission   301 non-null    object \n",
      " 8   Owner          301 non-null    int64  \n",
      "dtypes: float64(2), int64(3), object(4)\n",
      "memory usage: 21.3+ KB\n"
     ]
    }
   ],
   "source": [
    "df.info()"
   ]
  },
  {
   "cell_type": "markdown",
   "id": "148ce726",
   "metadata": {
    "papermill": {
     "duration": 0.004743,
     "end_time": "2025-10-12T17:25:11.230368",
     "exception": false,
     "start_time": "2025-10-12T17:25:11.225625",
     "status": "completed"
    },
    "tags": []
   },
   "source": [
    "# Data Cleaning\n"
   ]
  },
  {
   "cell_type": "markdown",
   "id": "643701f9",
   "metadata": {
    "papermill": {
     "duration": 0.005102,
     "end_time": "2025-10-12T17:25:11.240718",
     "exception": false,
     "start_time": "2025-10-12T17:25:11.235616",
     "status": "completed"
    },
    "tags": []
   },
   "source": [
    "Data is already clean"
   ]
  },
  {
   "cell_type": "markdown",
   "id": "dd1ae86d",
   "metadata": {
    "papermill": {
     "duration": 0.004655,
     "end_time": "2025-10-12T17:25:11.250917",
     "exception": false,
     "start_time": "2025-10-12T17:25:11.246262",
     "status": "completed"
    },
    "tags": []
   },
   "source": [
    "# Data Preprocessing"
   ]
  },
  {
   "cell_type": "code",
   "execution_count": 7,
   "id": "6a81f32d",
   "metadata": {
    "execution": {
     "iopub.execute_input": "2025-10-12T17:25:11.261689Z",
     "iopub.status.busy": "2025-10-12T17:25:11.261403Z",
     "iopub.status.idle": "2025-10-12T17:25:11.266942Z",
     "shell.execute_reply": "2025-10-12T17:25:11.265925Z"
    },
    "papermill": {
     "duration": 0.012779,
     "end_time": "2025-10-12T17:25:11.268452",
     "exception": false,
     "start_time": "2025-10-12T17:25:11.255673",
     "status": "completed"
    },
    "tags": []
   },
   "outputs": [],
   "source": [
    "df['Car_Age'] = 2025 - df['Year']"
   ]
  },
  {
   "cell_type": "code",
   "execution_count": 8,
   "id": "8792dc4c",
   "metadata": {
    "execution": {
     "iopub.execute_input": "2025-10-12T17:25:11.281565Z",
     "iopub.status.busy": "2025-10-12T17:25:11.280729Z",
     "iopub.status.idle": "2025-10-12T17:25:11.293433Z",
     "shell.execute_reply": "2025-10-12T17:25:11.292653Z"
    },
    "papermill": {
     "duration": 0.019953,
     "end_time": "2025-10-12T17:25:11.294926",
     "exception": false,
     "start_time": "2025-10-12T17:25:11.274973",
     "status": "completed"
    },
    "tags": []
   },
   "outputs": [
    {
     "data": {
      "text/html": [
       "<div>\n",
       "<style scoped>\n",
       "    .dataframe tbody tr th:only-of-type {\n",
       "        vertical-align: middle;\n",
       "    }\n",
       "\n",
       "    .dataframe tbody tr th {\n",
       "        vertical-align: top;\n",
       "    }\n",
       "\n",
       "    .dataframe thead th {\n",
       "        text-align: right;\n",
       "    }\n",
       "</style>\n",
       "<table border=\"1\" class=\"dataframe\">\n",
       "  <thead>\n",
       "    <tr style=\"text-align: right;\">\n",
       "      <th></th>\n",
       "      <th>Car_Name</th>\n",
       "      <th>Year</th>\n",
       "      <th>Selling_Price</th>\n",
       "      <th>Present_Price</th>\n",
       "      <th>Driven_kms</th>\n",
       "      <th>Fuel_Type</th>\n",
       "      <th>Selling_type</th>\n",
       "      <th>Transmission</th>\n",
       "      <th>Owner</th>\n",
       "      <th>Car_Age</th>\n",
       "    </tr>\n",
       "  </thead>\n",
       "  <tbody>\n",
       "    <tr>\n",
       "      <th>0</th>\n",
       "      <td>ritz</td>\n",
       "      <td>2014</td>\n",
       "      <td>3.35</td>\n",
       "      <td>5.59</td>\n",
       "      <td>27000</td>\n",
       "      <td>Petrol</td>\n",
       "      <td>Dealer</td>\n",
       "      <td>Manual</td>\n",
       "      <td>0</td>\n",
       "      <td>11</td>\n",
       "    </tr>\n",
       "    <tr>\n",
       "      <th>1</th>\n",
       "      <td>sx4</td>\n",
       "      <td>2013</td>\n",
       "      <td>4.75</td>\n",
       "      <td>9.54</td>\n",
       "      <td>43000</td>\n",
       "      <td>Diesel</td>\n",
       "      <td>Dealer</td>\n",
       "      <td>Manual</td>\n",
       "      <td>0</td>\n",
       "      <td>12</td>\n",
       "    </tr>\n",
       "    <tr>\n",
       "      <th>2</th>\n",
       "      <td>ciaz</td>\n",
       "      <td>2017</td>\n",
       "      <td>7.25</td>\n",
       "      <td>9.85</td>\n",
       "      <td>6900</td>\n",
       "      <td>Petrol</td>\n",
       "      <td>Dealer</td>\n",
       "      <td>Manual</td>\n",
       "      <td>0</td>\n",
       "      <td>8</td>\n",
       "    </tr>\n",
       "    <tr>\n",
       "      <th>3</th>\n",
       "      <td>wagon r</td>\n",
       "      <td>2011</td>\n",
       "      <td>2.85</td>\n",
       "      <td>4.15</td>\n",
       "      <td>5200</td>\n",
       "      <td>Petrol</td>\n",
       "      <td>Dealer</td>\n",
       "      <td>Manual</td>\n",
       "      <td>0</td>\n",
       "      <td>14</td>\n",
       "    </tr>\n",
       "    <tr>\n",
       "      <th>4</th>\n",
       "      <td>swift</td>\n",
       "      <td>2014</td>\n",
       "      <td>4.60</td>\n",
       "      <td>6.87</td>\n",
       "      <td>42450</td>\n",
       "      <td>Diesel</td>\n",
       "      <td>Dealer</td>\n",
       "      <td>Manual</td>\n",
       "      <td>0</td>\n",
       "      <td>11</td>\n",
       "    </tr>\n",
       "  </tbody>\n",
       "</table>\n",
       "</div>"
      ],
      "text/plain": [
       "  Car_Name  Year  Selling_Price  Present_Price  Driven_kms Fuel_Type  \\\n",
       "0     ritz  2014           3.35           5.59       27000    Petrol   \n",
       "1      sx4  2013           4.75           9.54       43000    Diesel   \n",
       "2     ciaz  2017           7.25           9.85        6900    Petrol   \n",
       "3  wagon r  2011           2.85           4.15        5200    Petrol   \n",
       "4    swift  2014           4.60           6.87       42450    Diesel   \n",
       "\n",
       "  Selling_type Transmission  Owner  Car_Age  \n",
       "0       Dealer       Manual      0       11  \n",
       "1       Dealer       Manual      0       12  \n",
       "2       Dealer       Manual      0        8  \n",
       "3       Dealer       Manual      0       14  \n",
       "4       Dealer       Manual      0       11  "
      ]
     },
     "execution_count": 8,
     "metadata": {},
     "output_type": "execute_result"
    }
   ],
   "source": [
    "df.head()"
   ]
  },
  {
   "cell_type": "markdown",
   "id": "1ac53478",
   "metadata": {
    "papermill": {
     "duration": 0.004724,
     "end_time": "2025-10-12T17:25:11.304679",
     "exception": false,
     "start_time": "2025-10-12T17:25:11.299955",
     "status": "completed"
    },
    "tags": []
   },
   "source": [
    "# Model Training"
   ]
  },
  {
   "cell_type": "code",
   "execution_count": 9,
   "id": "8f6e81ce",
   "metadata": {
    "execution": {
     "iopub.execute_input": "2025-10-12T17:25:11.315612Z",
     "iopub.status.busy": "2025-10-12T17:25:11.315350Z",
     "iopub.status.idle": "2025-10-12T17:25:13.420708Z",
     "shell.execute_reply": "2025-10-12T17:25:13.419855Z"
    },
    "papermill": {
     "duration": 2.112776,
     "end_time": "2025-10-12T17:25:13.422437",
     "exception": false,
     "start_time": "2025-10-12T17:25:11.309661",
     "status": "completed"
    },
    "tags": []
   },
   "outputs": [],
   "source": [
    "from sklearn.ensemble import GradientBoostingRegressor\n",
    "from sklearn.preprocessing import StandardScaler\n",
    "from sklearn.metrics import r2_score, mean_absolute_error\n"
   ]
  },
  {
   "cell_type": "code",
   "execution_count": 10,
   "id": "30af36b5",
   "metadata": {
    "execution": {
     "iopub.execute_input": "2025-10-12T17:25:13.434145Z",
     "iopub.status.busy": "2025-10-12T17:25:13.433543Z",
     "iopub.status.idle": "2025-10-12T17:25:13.450600Z",
     "shell.execute_reply": "2025-10-12T17:25:13.449521Z"
    },
    "papermill": {
     "duration": 0.024773,
     "end_time": "2025-10-12T17:25:13.452383",
     "exception": false,
     "start_time": "2025-10-12T17:25:13.427610",
     "status": "completed"
    },
    "tags": []
   },
   "outputs": [],
   "source": [
    "categorical_cols = ['Fuel_Type', 'Selling_type', 'Transmission']\n",
    "\n",
    "df_encoded = pd.get_dummies(df, columns=categorical_cols, drop_first=True)\n"
   ]
  },
  {
   "cell_type": "markdown",
   "id": "83a1001c",
   "metadata": {
    "papermill": {
     "duration": 0.004758,
     "end_time": "2025-10-12T17:25:13.462515",
     "exception": false,
     "start_time": "2025-10-12T17:25:13.457757",
     "status": "completed"
    },
    "tags": []
   },
   "source": [
    "Machine learning models require numerical input, so we need to convert the categorical features (Fuel_Type, Selling_type, and Transmission) into a numerical format."
   ]
  },
  {
   "cell_type": "code",
   "execution_count": 11,
   "id": "82172db8",
   "metadata": {
    "execution": {
     "iopub.execute_input": "2025-10-12T17:25:13.474072Z",
     "iopub.status.busy": "2025-10-12T17:25:13.473353Z",
     "iopub.status.idle": "2025-10-12T17:25:13.480863Z",
     "shell.execute_reply": "2025-10-12T17:25:13.479919Z"
    },
    "papermill": {
     "duration": 0.015103,
     "end_time": "2025-10-12T17:25:13.482551",
     "exception": false,
     "start_time": "2025-10-12T17:25:13.467448",
     "status": "completed"
    },
    "tags": []
   },
   "outputs": [],
   "source": [
    "X = df_encoded.drop(columns=['Selling_Price','Car_Name','Year'])\n",
    "y = df_encoded['Selling_Price']"
   ]
  },
  {
   "cell_type": "code",
   "execution_count": 12,
   "id": "31645046",
   "metadata": {
    "execution": {
     "iopub.execute_input": "2025-10-12T17:25:13.494187Z",
     "iopub.status.busy": "2025-10-12T17:25:13.493669Z",
     "iopub.status.idle": "2025-10-12T17:25:13.507280Z",
     "shell.execute_reply": "2025-10-12T17:25:13.506311Z"
    },
    "papermill": {
     "duration": 0.021016,
     "end_time": "2025-10-12T17:25:13.508706",
     "exception": false,
     "start_time": "2025-10-12T17:25:13.487690",
     "status": "completed"
    },
    "tags": []
   },
   "outputs": [
    {
     "data": {
      "text/html": [
       "<div>\n",
       "<style scoped>\n",
       "    .dataframe tbody tr th:only-of-type {\n",
       "        vertical-align: middle;\n",
       "    }\n",
       "\n",
       "    .dataframe tbody tr th {\n",
       "        vertical-align: top;\n",
       "    }\n",
       "\n",
       "    .dataframe thead th {\n",
       "        text-align: right;\n",
       "    }\n",
       "</style>\n",
       "<table border=\"1\" class=\"dataframe\">\n",
       "  <thead>\n",
       "    <tr style=\"text-align: right;\">\n",
       "      <th></th>\n",
       "      <th>Present_Price</th>\n",
       "      <th>Driven_kms</th>\n",
       "      <th>Owner</th>\n",
       "      <th>Car_Age</th>\n",
       "      <th>Fuel_Type_Diesel</th>\n",
       "      <th>Fuel_Type_Petrol</th>\n",
       "      <th>Selling_type_Individual</th>\n",
       "      <th>Transmission_Manual</th>\n",
       "    </tr>\n",
       "  </thead>\n",
       "  <tbody>\n",
       "    <tr>\n",
       "      <th>0</th>\n",
       "      <td>5.59</td>\n",
       "      <td>27000</td>\n",
       "      <td>0</td>\n",
       "      <td>11</td>\n",
       "      <td>False</td>\n",
       "      <td>True</td>\n",
       "      <td>False</td>\n",
       "      <td>True</td>\n",
       "    </tr>\n",
       "    <tr>\n",
       "      <th>1</th>\n",
       "      <td>9.54</td>\n",
       "      <td>43000</td>\n",
       "      <td>0</td>\n",
       "      <td>12</td>\n",
       "      <td>True</td>\n",
       "      <td>False</td>\n",
       "      <td>False</td>\n",
       "      <td>True</td>\n",
       "    </tr>\n",
       "    <tr>\n",
       "      <th>2</th>\n",
       "      <td>9.85</td>\n",
       "      <td>6900</td>\n",
       "      <td>0</td>\n",
       "      <td>8</td>\n",
       "      <td>False</td>\n",
       "      <td>True</td>\n",
       "      <td>False</td>\n",
       "      <td>True</td>\n",
       "    </tr>\n",
       "    <tr>\n",
       "      <th>3</th>\n",
       "      <td>4.15</td>\n",
       "      <td>5200</td>\n",
       "      <td>0</td>\n",
       "      <td>14</td>\n",
       "      <td>False</td>\n",
       "      <td>True</td>\n",
       "      <td>False</td>\n",
       "      <td>True</td>\n",
       "    </tr>\n",
       "    <tr>\n",
       "      <th>4</th>\n",
       "      <td>6.87</td>\n",
       "      <td>42450</td>\n",
       "      <td>0</td>\n",
       "      <td>11</td>\n",
       "      <td>True</td>\n",
       "      <td>False</td>\n",
       "      <td>False</td>\n",
       "      <td>True</td>\n",
       "    </tr>\n",
       "  </tbody>\n",
       "</table>\n",
       "</div>"
      ],
      "text/plain": [
       "   Present_Price  Driven_kms  Owner  Car_Age  Fuel_Type_Diesel  \\\n",
       "0           5.59       27000      0       11             False   \n",
       "1           9.54       43000      0       12              True   \n",
       "2           9.85        6900      0        8             False   \n",
       "3           4.15        5200      0       14             False   \n",
       "4           6.87       42450      0       11              True   \n",
       "\n",
       "   Fuel_Type_Petrol  Selling_type_Individual  Transmission_Manual  \n",
       "0              True                    False                 True  \n",
       "1             False                    False                 True  \n",
       "2              True                    False                 True  \n",
       "3              True                    False                 True  \n",
       "4             False                    False                 True  "
      ]
     },
     "execution_count": 12,
     "metadata": {},
     "output_type": "execute_result"
    }
   ],
   "source": [
    "X.head()"
   ]
  },
  {
   "cell_type": "code",
   "execution_count": 13,
   "id": "d0065e01",
   "metadata": {
    "execution": {
     "iopub.execute_input": "2025-10-12T17:25:13.521065Z",
     "iopub.status.busy": "2025-10-12T17:25:13.520180Z",
     "iopub.status.idle": "2025-10-12T17:25:13.527643Z",
     "shell.execute_reply": "2025-10-12T17:25:13.526712Z"
    },
    "papermill": {
     "duration": 0.015545,
     "end_time": "2025-10-12T17:25:13.529645",
     "exception": false,
     "start_time": "2025-10-12T17:25:13.514100",
     "status": "completed"
    },
    "tags": []
   },
   "outputs": [
    {
     "data": {
      "text/plain": [
       "0    3.35\n",
       "1    4.75\n",
       "2    7.25\n",
       "3    2.85\n",
       "4    4.60\n",
       "Name: Selling_Price, dtype: float64"
      ]
     },
     "execution_count": 13,
     "metadata": {},
     "output_type": "execute_result"
    }
   ],
   "source": [
    "y.head()"
   ]
  },
  {
   "cell_type": "code",
   "execution_count": 14,
   "id": "1c429342",
   "metadata": {
    "execution": {
     "iopub.execute_input": "2025-10-12T17:25:13.541842Z",
     "iopub.status.busy": "2025-10-12T17:25:13.541486Z",
     "iopub.status.idle": "2025-10-12T17:25:13.549490Z",
     "shell.execute_reply": "2025-10-12T17:25:13.548384Z"
    },
    "papermill": {
     "duration": 0.015995,
     "end_time": "2025-10-12T17:25:13.551311",
     "exception": false,
     "start_time": "2025-10-12T17:25:13.535316",
     "status": "completed"
    },
    "tags": []
   },
   "outputs": [],
   "source": [
    "from sklearn.model_selection import train_test_split\n",
    "X_train,X_test,y_train,y_test = train_test_split(X,y,test_size = 0.2, random_state=42)"
   ]
  },
  {
   "cell_type": "markdown",
   "id": "d0b4cbfe",
   "metadata": {
    "papermill": {
     "duration": 0.005519,
     "end_time": "2025-10-12T17:25:13.562285",
     "exception": false,
     "start_time": "2025-10-12T17:25:13.556766",
     "status": "completed"
    },
    "tags": []
   },
   "source": [
    "Random State = 42 ensures that the data is shuffled and split exactly the same way every single time the script is executed."
   ]
  },
  {
   "cell_type": "code",
   "execution_count": 15,
   "id": "0b8c019e",
   "metadata": {
    "execution": {
     "iopub.execute_input": "2025-10-12T17:25:13.574492Z",
     "iopub.status.busy": "2025-10-12T17:25:13.574171Z",
     "iopub.status.idle": "2025-10-12T17:25:13.585898Z",
     "shell.execute_reply": "2025-10-12T17:25:13.584902Z"
    },
    "papermill": {
     "duration": 0.020129,
     "end_time": "2025-10-12T17:25:13.587965",
     "exception": false,
     "start_time": "2025-10-12T17:25:13.567836",
     "status": "completed"
    },
    "tags": []
   },
   "outputs": [],
   "source": [
    "#Scaling\n",
    "scaler = StandardScaler()\n",
    "X_train_scaled = scaler.fit_transform(X_train)\n",
    "X_test_scaled = scaler.transform(X_test)"
   ]
  },
  {
   "cell_type": "code",
   "execution_count": 16,
   "id": "316d0007",
   "metadata": {
    "execution": {
     "iopub.execute_input": "2025-10-12T17:25:13.599691Z",
     "iopub.status.busy": "2025-10-12T17:25:13.599385Z",
     "iopub.status.idle": "2025-10-12T17:25:13.668216Z",
     "shell.execute_reply": "2025-10-12T17:25:13.666872Z"
    },
    "papermill": {
     "duration": 0.076853,
     "end_time": "2025-10-12T17:25:13.670141",
     "exception": false,
     "start_time": "2025-10-12T17:25:13.593288",
     "status": "completed"
    },
    "tags": []
   },
   "outputs": [
    {
     "data": {
      "text/html": [
       "<style>#sk-container-id-1 {color: black;background-color: white;}#sk-container-id-1 pre{padding: 0;}#sk-container-id-1 div.sk-toggleable {background-color: white;}#sk-container-id-1 label.sk-toggleable__label {cursor: pointer;display: block;width: 100%;margin-bottom: 0;padding: 0.3em;box-sizing: border-box;text-align: center;}#sk-container-id-1 label.sk-toggleable__label-arrow:before {content: \"▸\";float: left;margin-right: 0.25em;color: #696969;}#sk-container-id-1 label.sk-toggleable__label-arrow:hover:before {color: black;}#sk-container-id-1 div.sk-estimator:hover label.sk-toggleable__label-arrow:before {color: black;}#sk-container-id-1 div.sk-toggleable__content {max-height: 0;max-width: 0;overflow: hidden;text-align: left;background-color: #f0f8ff;}#sk-container-id-1 div.sk-toggleable__content pre {margin: 0.2em;color: black;border-radius: 0.25em;background-color: #f0f8ff;}#sk-container-id-1 input.sk-toggleable__control:checked~div.sk-toggleable__content {max-height: 200px;max-width: 100%;overflow: auto;}#sk-container-id-1 input.sk-toggleable__control:checked~label.sk-toggleable__label-arrow:before {content: \"▾\";}#sk-container-id-1 div.sk-estimator input.sk-toggleable__control:checked~label.sk-toggleable__label {background-color: #d4ebff;}#sk-container-id-1 div.sk-label input.sk-toggleable__control:checked~label.sk-toggleable__label {background-color: #d4ebff;}#sk-container-id-1 input.sk-hidden--visually {border: 0;clip: rect(1px 1px 1px 1px);clip: rect(1px, 1px, 1px, 1px);height: 1px;margin: -1px;overflow: hidden;padding: 0;position: absolute;width: 1px;}#sk-container-id-1 div.sk-estimator {font-family: monospace;background-color: #f0f8ff;border: 1px dotted black;border-radius: 0.25em;box-sizing: border-box;margin-bottom: 0.5em;}#sk-container-id-1 div.sk-estimator:hover {background-color: #d4ebff;}#sk-container-id-1 div.sk-parallel-item::after {content: \"\";width: 100%;border-bottom: 1px solid gray;flex-grow: 1;}#sk-container-id-1 div.sk-label:hover label.sk-toggleable__label {background-color: #d4ebff;}#sk-container-id-1 div.sk-serial::before {content: \"\";position: absolute;border-left: 1px solid gray;box-sizing: border-box;top: 0;bottom: 0;left: 50%;z-index: 0;}#sk-container-id-1 div.sk-serial {display: flex;flex-direction: column;align-items: center;background-color: white;padding-right: 0.2em;padding-left: 0.2em;position: relative;}#sk-container-id-1 div.sk-item {position: relative;z-index: 1;}#sk-container-id-1 div.sk-parallel {display: flex;align-items: stretch;justify-content: center;background-color: white;position: relative;}#sk-container-id-1 div.sk-item::before, #sk-container-id-1 div.sk-parallel-item::before {content: \"\";position: absolute;border-left: 1px solid gray;box-sizing: border-box;top: 0;bottom: 0;left: 50%;z-index: -1;}#sk-container-id-1 div.sk-parallel-item {display: flex;flex-direction: column;z-index: 1;position: relative;background-color: white;}#sk-container-id-1 div.sk-parallel-item:first-child::after {align-self: flex-end;width: 50%;}#sk-container-id-1 div.sk-parallel-item:last-child::after {align-self: flex-start;width: 50%;}#sk-container-id-1 div.sk-parallel-item:only-child::after {width: 0;}#sk-container-id-1 div.sk-dashed-wrapped {border: 1px dashed gray;margin: 0 0.4em 0.5em 0.4em;box-sizing: border-box;padding-bottom: 0.4em;background-color: white;}#sk-container-id-1 div.sk-label label {font-family: monospace;font-weight: bold;display: inline-block;line-height: 1.2em;}#sk-container-id-1 div.sk-label-container {text-align: center;}#sk-container-id-1 div.sk-container {/* jupyter's `normalize.less` sets `[hidden] { display: none; }` but bootstrap.min.css set `[hidden] { display: none !important; }` so we also need the `!important` here to be able to override the default hidden behavior on the sphinx rendered scikit-learn.org. See: https://github.com/scikit-learn/scikit-learn/issues/21755 */display: inline-block !important;position: relative;}#sk-container-id-1 div.sk-text-repr-fallback {display: none;}</style><div id=\"sk-container-id-1\" class=\"sk-top-container\"><div class=\"sk-text-repr-fallback\"><pre>GradientBoostingRegressor()</pre><b>In a Jupyter environment, please rerun this cell to show the HTML representation or trust the notebook. <br />On GitHub, the HTML representation is unable to render, please try loading this page with nbviewer.org.</b></div><div class=\"sk-container\" hidden><div class=\"sk-item\"><div class=\"sk-estimator sk-toggleable\"><input class=\"sk-toggleable__control sk-hidden--visually\" id=\"sk-estimator-id-1\" type=\"checkbox\" checked><label for=\"sk-estimator-id-1\" class=\"sk-toggleable__label sk-toggleable__label-arrow\">GradientBoostingRegressor</label><div class=\"sk-toggleable__content\"><pre>GradientBoostingRegressor()</pre></div></div></div></div></div>"
      ],
      "text/plain": [
       "GradientBoostingRegressor()"
      ]
     },
     "execution_count": 16,
     "metadata": {},
     "output_type": "execute_result"
    }
   ],
   "source": [
    "model = GradientBoostingRegressor()\n",
    "model.fit(X_train_scaled, y_train)"
   ]
  },
  {
   "cell_type": "code",
   "execution_count": 17,
   "id": "6a1fe881",
   "metadata": {
    "execution": {
     "iopub.execute_input": "2025-10-12T17:25:13.683313Z",
     "iopub.status.busy": "2025-10-12T17:25:13.682979Z",
     "iopub.status.idle": "2025-10-12T17:25:13.688897Z",
     "shell.execute_reply": "2025-10-12T17:25:13.687678Z"
    },
    "papermill": {
     "duration": 0.014299,
     "end_time": "2025-10-12T17:25:13.690681",
     "exception": false,
     "start_time": "2025-10-12T17:25:13.676382",
     "status": "completed"
    },
    "tags": []
   },
   "outputs": [],
   "source": [
    "y_pred = model.predict(X_test_scaled)"
   ]
  },
  {
   "cell_type": "code",
   "execution_count": 18,
   "id": "6b8d617a",
   "metadata": {
    "execution": {
     "iopub.execute_input": "2025-10-12T17:25:13.703219Z",
     "iopub.status.busy": "2025-10-12T17:25:13.702921Z",
     "iopub.status.idle": "2025-10-12T17:25:13.708725Z",
     "shell.execute_reply": "2025-10-12T17:25:13.707903Z"
    },
    "papermill": {
     "duration": 0.014156,
     "end_time": "2025-10-12T17:25:13.710434",
     "exception": false,
     "start_time": "2025-10-12T17:25:13.696278",
     "status": "completed"
    },
    "tags": []
   },
   "outputs": [],
   "source": [
    "r2 = r2_score(y_test, y_pred)\n",
    "mae = mean_absolute_error(y_test, y_pred)"
   ]
  },
  {
   "cell_type": "code",
   "execution_count": 19,
   "id": "3e2c51fc",
   "metadata": {
    "execution": {
     "iopub.execute_input": "2025-10-12T17:25:13.722673Z",
     "iopub.status.busy": "2025-10-12T17:25:13.722360Z",
     "iopub.status.idle": "2025-10-12T17:25:13.727862Z",
     "shell.execute_reply": "2025-10-12T17:25:13.726932Z"
    },
    "papermill": {
     "duration": 0.013394,
     "end_time": "2025-10-12T17:25:13.729477",
     "exception": false,
     "start_time": "2025-10-12T17:25:13.716083",
     "status": "completed"
    },
    "tags": []
   },
   "outputs": [
    {
     "name": "stdout",
     "output_type": "stream",
     "text": [
      "Gradient Boosting Regressor Model Results:\n",
      "R-squared (R2): 0.9625\n",
      "Mean Absolute Error (MAE): 0.5849 Lakhs (Average prediction error)\n"
     ]
    }
   ],
   "source": [
    "print(f\"Gradient Boosting Regressor Model Results:\")\n",
    "print(f\"R-squared (R2): {r2:.4f}\")\n",
    "print(f\"Mean Absolute Error (MAE): {mae:.4f} Lakhs (Average prediction error)\")"
   ]
  }
 ],
 "metadata": {
  "kaggle": {
   "accelerator": "none",
   "dataSources": [
    {
     "datasetId": 2491159,
     "sourceId": 4226692,
     "sourceType": "datasetVersion"
    }
   ],
   "dockerImageVersionId": 31153,
   "isGpuEnabled": false,
   "isInternetEnabled": false,
   "language": "python",
   "sourceType": "notebook"
  },
  "kernelspec": {
   "display_name": "Python 3",
   "language": "python",
   "name": "python3"
  },
  "language_info": {
   "codemirror_mode": {
    "name": "ipython",
    "version": 3
   },
   "file_extension": ".py",
   "mimetype": "text/x-python",
   "name": "python",
   "nbconvert_exporter": "python",
   "pygments_lexer": "ipython3",
   "version": "3.11.13"
  },
  "papermill": {
   "default_parameters": {},
   "duration": 10.333331,
   "end_time": "2025-10-12T17:25:14.457384",
   "environment_variables": {},
   "exception": null,
   "input_path": "__notebook__.ipynb",
   "output_path": "__notebook__.ipynb",
   "parameters": {},
   "start_time": "2025-10-12T17:25:04.124053",
   "version": "2.6.0"
  }
 },
 "nbformat": 4,
 "nbformat_minor": 5
}
